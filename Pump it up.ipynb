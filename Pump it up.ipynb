{
 "cells": [
  {
   "cell_type": "code",
   "execution_count": 58,
   "metadata": {
    "collapsed": false
   },
   "outputs": [
    {
     "data": {
      "text/plain": [
       "'2017-03-08 00:26:09'"
      ]
     },
     "execution_count": 58,
     "metadata": {},
     "output_type": "execute_result"
    }
   ],
   "source": [
    "from time import localtime, strftime\n",
    "strftime(\"%Y-%m-%d %H:%M:%S\", localtime())"
   ]
  },
  {
   "cell_type": "markdown",
   "metadata": {},
   "source": [
    "# Importing the necessary packages"
   ]
  },
  {
   "cell_type": "code",
   "execution_count": 59,
   "metadata": {
    "collapsed": true
   },
   "outputs": [],
   "source": [
    "import pandas as pd\n",
    "import numpy as np\n",
    "import seaborn as sns\n",
    "import matplotlib.pyplot as plt\n",
    "%matplotlib inline\n",
    "import warnings\n",
    "warnings.filterwarnings(\"ignore\")"
   ]
  },
  {
   "cell_type": "markdown",
   "metadata": {},
   "source": [
    "# Reading the train dataset, test dataset and the target for the train dataset from the train labels file"
   ]
  },
  {
   "cell_type": "code",
   "execution_count": 60,
   "metadata": {
    "collapsed": false
   },
   "outputs": [],
   "source": [
    "train = pd.read_csv(\"train.csv\")\n",
    "test = pd.read_csv(\"test.csv\")\n",
    "train_target = pd.read_csv(\"train labels.csv\")"
   ]
  },
  {
   "cell_type": "code",
   "execution_count": 61,
   "metadata": {
    "collapsed": false,
    "scrolled": true
   },
   "outputs": [
    {
     "name": "stdout",
     "output_type": "stream",
     "text": [
      "head of train\n"
     ]
    },
    {
     "data": {
      "text/html": [
       "<div>\n",
       "<table border=\"1\" class=\"dataframe\">\n",
       "  <thead>\n",
       "    <tr style=\"text-align: right;\">\n",
       "      <th></th>\n",
       "      <th>id</th>\n",
       "      <th>amount_tsh</th>\n",
       "      <th>date_recorded</th>\n",
       "      <th>funder</th>\n",
       "      <th>gps_height</th>\n",
       "      <th>installer</th>\n",
       "      <th>longitude</th>\n",
       "      <th>latitude</th>\n",
       "      <th>wpt_name</th>\n",
       "      <th>num_private</th>\n",
       "      <th>basin</th>\n",
       "      <th>...</th>\n",
       "      <th>payment</th>\n",
       "      <th>payment_type</th>\n",
       "      <th>water_quality</th>\n",
       "      <th>quality_group</th>\n",
       "      <th>quantity</th>\n",
       "      <th>quantity_group</th>\n",
       "      <th>source</th>\n",
       "      <th>source_type</th>\n",
       "      <th>source_class</th>\n",
       "      <th>waterpoint_type</th>\n",
       "      <th>waterpoint_type_group</th>\n",
       "    </tr>\n",
       "  </thead>\n",
       "  <tbody>\n",
       "    <tr>\n",
       "      <th>0</th>\n",
       "      <td>69572</td>\n",
       "      <td>6000.0</td>\n",
       "      <td>2011-03-14</td>\n",
       "      <td>Roman</td>\n",
       "      <td>1390</td>\n",
       "      <td>Roman</td>\n",
       "      <td>34.938093</td>\n",
       "      <td>-9.856322</td>\n",
       "      <td>none</td>\n",
       "      <td>0</td>\n",
       "      <td>Lake Nyasa</td>\n",
       "      <td>...</td>\n",
       "      <td>pay annually</td>\n",
       "      <td>annually</td>\n",
       "      <td>soft</td>\n",
       "      <td>good</td>\n",
       "      <td>enough</td>\n",
       "      <td>enough</td>\n",
       "      <td>spring</td>\n",
       "      <td>spring</td>\n",
       "      <td>groundwater</td>\n",
       "      <td>communal standpipe</td>\n",
       "      <td>communal standpipe</td>\n",
       "    </tr>\n",
       "  </tbody>\n",
       "</table>\n",
       "<p>1 rows × 40 columns</p>\n",
       "</div>"
      ],
      "text/plain": [
       "      id  amount_tsh date_recorded funder  gps_height installer  longitude  \\\n",
       "0  69572      6000.0    2011-03-14  Roman        1390     Roman  34.938093   \n",
       "\n",
       "   latitude wpt_name  num_private       basin          ...           \\\n",
       "0 -9.856322     none            0  Lake Nyasa          ...            \n",
       "\n",
       "        payment payment_type  water_quality  quality_group quantity  \\\n",
       "0  pay annually     annually           soft           good   enough   \n",
       "\n",
       "  quantity_group  source source_type source_class     waterpoint_type  \\\n",
       "0         enough  spring      spring  groundwater  communal standpipe   \n",
       "\n",
       "  waterpoint_type_group  \n",
       "0    communal standpipe  \n",
       "\n",
       "[1 rows x 40 columns]"
      ]
     },
     "execution_count": 61,
     "metadata": {},
     "output_type": "execute_result"
    }
   ],
   "source": [
    "print(\"head of train\")\n",
    "train.head(1)"
   ]
  },
  {
   "cell_type": "code",
   "execution_count": 62,
   "metadata": {
    "collapsed": false
   },
   "outputs": [
    {
     "name": "stdout",
     "output_type": "stream",
     "text": [
      "head of test\n"
     ]
    },
    {
     "data": {
      "text/html": [
       "<div>\n",
       "<table border=\"1\" class=\"dataframe\">\n",
       "  <thead>\n",
       "    <tr style=\"text-align: right;\">\n",
       "      <th></th>\n",
       "      <th>id</th>\n",
       "      <th>amount_tsh</th>\n",
       "      <th>date_recorded</th>\n",
       "      <th>funder</th>\n",
       "      <th>gps_height</th>\n",
       "      <th>installer</th>\n",
       "      <th>longitude</th>\n",
       "      <th>latitude</th>\n",
       "      <th>wpt_name</th>\n",
       "      <th>num_private</th>\n",
       "      <th>basin</th>\n",
       "      <th>...</th>\n",
       "      <th>payment</th>\n",
       "      <th>payment_type</th>\n",
       "      <th>water_quality</th>\n",
       "      <th>quality_group</th>\n",
       "      <th>quantity</th>\n",
       "      <th>quantity_group</th>\n",
       "      <th>source</th>\n",
       "      <th>source_type</th>\n",
       "      <th>source_class</th>\n",
       "      <th>waterpoint_type</th>\n",
       "      <th>waterpoint_type_group</th>\n",
       "    </tr>\n",
       "  </thead>\n",
       "  <tbody>\n",
       "    <tr>\n",
       "      <th>0</th>\n",
       "      <td>50785</td>\n",
       "      <td>0.0</td>\n",
       "      <td>2013-02-04</td>\n",
       "      <td>Dmdd</td>\n",
       "      <td>1996</td>\n",
       "      <td>DMDD</td>\n",
       "      <td>35.290799</td>\n",
       "      <td>-4.059696</td>\n",
       "      <td>Dinamu Secondary School</td>\n",
       "      <td>0</td>\n",
       "      <td>Internal</td>\n",
       "      <td>...</td>\n",
       "      <td>never pay</td>\n",
       "      <td>never pay</td>\n",
       "      <td>soft</td>\n",
       "      <td>good</td>\n",
       "      <td>seasonal</td>\n",
       "      <td>seasonal</td>\n",
       "      <td>rainwater harvesting</td>\n",
       "      <td>rainwater harvesting</td>\n",
       "      <td>surface</td>\n",
       "      <td>other</td>\n",
       "      <td>other</td>\n",
       "    </tr>\n",
       "  </tbody>\n",
       "</table>\n",
       "<p>1 rows × 40 columns</p>\n",
       "</div>"
      ],
      "text/plain": [
       "      id  amount_tsh date_recorded funder  gps_height installer  longitude  \\\n",
       "0  50785         0.0    2013-02-04   Dmdd        1996      DMDD  35.290799   \n",
       "\n",
       "   latitude                 wpt_name  num_private     basin  \\\n",
       "0 -4.059696  Dinamu Secondary School            0  Internal   \n",
       "\n",
       "           ...             payment payment_type  water_quality  quality_group  \\\n",
       "0          ...           never pay    never pay           soft           good   \n",
       "\n",
       "   quantity quantity_group                source           source_type  \\\n",
       "0  seasonal       seasonal  rainwater harvesting  rainwater harvesting   \n",
       "\n",
       "  source_class waterpoint_type waterpoint_type_group  \n",
       "0      surface           other                 other  \n",
       "\n",
       "[1 rows x 40 columns]"
      ]
     },
     "execution_count": 62,
     "metadata": {},
     "output_type": "execute_result"
    }
   ],
   "source": [
    "print(\"head of test\")\n",
    "test.head(1)"
   ]
  },
  {
   "cell_type": "code",
   "execution_count": 63,
   "metadata": {
    "collapsed": false
   },
   "outputs": [
    {
     "name": "stdout",
     "output_type": "stream",
     "text": [
      "head of train labels\n"
     ]
    },
    {
     "data": {
      "text/html": [
       "<div>\n",
       "<table border=\"1\" class=\"dataframe\">\n",
       "  <thead>\n",
       "    <tr style=\"text-align: right;\">\n",
       "      <th></th>\n",
       "      <th>id</th>\n",
       "      <th>status_group</th>\n",
       "    </tr>\n",
       "  </thead>\n",
       "  <tbody>\n",
       "    <tr>\n",
       "      <th>0</th>\n",
       "      <td>69572</td>\n",
       "      <td>functional</td>\n",
       "    </tr>\n",
       "  </tbody>\n",
       "</table>\n",
       "</div>"
      ],
      "text/plain": [
       "      id status_group\n",
       "0  69572   functional"
      ]
     },
     "execution_count": 63,
     "metadata": {},
     "output_type": "execute_result"
    }
   ],
   "source": [
    "print(\"head of train labels\")\n",
    "train_target.head(1)"
   ]
  },
  {
   "cell_type": "code",
   "execution_count": 64,
   "metadata": {
    "collapsed": false
   },
   "outputs": [],
   "source": [
    "train = train.drop([\"id\"], axis = 1) #Dropping the id from the train dataset as it will not help in any way in predicting the target\n",
    "test_ids = test['id'] #Keeping the test ids in a separate file for final prediction\n",
    "test = test.drop([\"id\"], axis = 1) #Again dropping the ids from the test dataset as they are not going to help in final prediction\n",
    "train_target = train_target.drop([\"id\"], axis = 1) #Similarly dropping the ids from the train labels dataset"
   ]
  },
  {
   "cell_type": "code",
   "execution_count": 65,
   "metadata": {
    "collapsed": false
   },
   "outputs": [
    {
     "name": "stdout",
     "output_type": "stream",
     "text": [
      "The shape of the train dataset is (59400, 39)\n",
      "The shape of the test dataset is (14850, 39)\n"
     ]
    }
   ],
   "source": [
    "print (\"The shape of the train dataset is \" + str(train.shape))\n",
    "print (\"The shape of the test dataset is \" + str(test.shape))"
   ]
  },
  {
   "cell_type": "markdown",
   "metadata": {},
   "source": [
    "So there are 39 features that are in some way contributing or not contributing to the classification of the pumps. We will have to design a model based on the features available so that our accuracy of the status of the pumps is highest"
   ]
  },
  {
   "cell_type": "markdown",
   "metadata": {},
   "source": [
    "# Lets check out the nature of the train dataset/"
   ]
  },
  {
   "cell_type": "code",
   "execution_count": 66,
   "metadata": {
    "collapsed": false
   },
   "outputs": [
    {
     "name": "stdout",
     "output_type": "stream",
     "text": [
      "<class 'pandas.core.frame.DataFrame'>\n",
      "RangeIndex: 59400 entries, 0 to 59399\n",
      "Data columns (total 39 columns):\n",
      "amount_tsh               59400 non-null float64\n",
      "date_recorded            59400 non-null object\n",
      "funder                   55765 non-null object\n",
      "gps_height               59400 non-null int64\n",
      "installer                55745 non-null object\n",
      "longitude                59400 non-null float64\n",
      "latitude                 59400 non-null float64\n",
      "wpt_name                 59400 non-null object\n",
      "num_private              59400 non-null int64\n",
      "basin                    59400 non-null object\n",
      "subvillage               59029 non-null object\n",
      "region                   59400 non-null object\n",
      "region_code              59400 non-null int64\n",
      "district_code            59400 non-null int64\n",
      "lga                      59400 non-null object\n",
      "ward                     59400 non-null object\n",
      "population               59400 non-null int64\n",
      "public_meeting           56066 non-null object\n",
      "recorded_by              59400 non-null object\n",
      "scheme_management        55523 non-null object\n",
      "scheme_name              31234 non-null object\n",
      "permit                   56344 non-null object\n",
      "construction_year        59400 non-null int64\n",
      "extraction_type          59400 non-null object\n",
      "extraction_type_group    59400 non-null object\n",
      "extraction_type_class    59400 non-null object\n",
      "management               59400 non-null object\n",
      "management_group         59400 non-null object\n",
      "payment                  59400 non-null object\n",
      "payment_type             59400 non-null object\n",
      "water_quality            59400 non-null object\n",
      "quality_group            59400 non-null object\n",
      "quantity                 59400 non-null object\n",
      "quantity_group           59400 non-null object\n",
      "source                   59400 non-null object\n",
      "source_type              59400 non-null object\n",
      "source_class             59400 non-null object\n",
      "waterpoint_type          59400 non-null object\n",
      "waterpoint_type_group    59400 non-null object\n",
      "dtypes: float64(3), int64(6), object(30)\n",
      "memory usage: 17.7+ MB\n"
     ]
    }
   ],
   "source": [
    "train.info()"
   ]
  },
  {
   "cell_type": "markdown",
   "metadata": {},
   "source": [
    "Lets examine one feature at a time. We will look for opportunities for feature engineering. Feature engineering is one of the best methods by which we can increase the accuracy of our model. But first of all, lets check how many classes of target variable is present"
   ]
  },
  {
   "cell_type": "code",
   "execution_count": 67,
   "metadata": {
    "collapsed": false,
    "scrolled": false
   },
   "outputs": [
    {
     "name": "stdout",
     "output_type": "stream",
     "text": [
      "The number of classes in target variable are \n"
     ]
    },
    {
     "data": {
      "text/plain": [
       "functional                 32259\n",
       "non functional             22824\n",
       "functional needs repair     4317\n",
       "Name: status_group, dtype: int64"
      ]
     },
     "execution_count": 67,
     "metadata": {},
     "output_type": "execute_result"
    }
   ],
   "source": [
    "print (\"The number of classes in target variable are \")\n",
    "train_target['status_group'].value_counts()"
   ]
  },
  {
   "cell_type": "markdown",
   "metadata": {},
   "source": [
    "So it is a multiclass classfication problem. The classes are functional, non functional and functional needs repair"
   ]
  },
  {
   "cell_type": "code",
   "execution_count": 68,
   "metadata": {
    "collapsed": false
   },
   "outputs": [
    {
     "data": {
      "text/plain": [
       "functional                 0.543081\n",
       "non functional             0.384242\n",
       "functional needs repair    0.072677\n",
       "Name: status_group, dtype: float64"
      ]
     },
     "execution_count": 68,
     "metadata": {},
     "output_type": "execute_result"
    }
   ],
   "source": [
    "proportion = (train_target['status_group'].value_counts()/train_target['status_group'].value_counts().sum())\n",
    "proportion"
   ]
  },
  {
   "cell_type": "markdown",
   "metadata": {},
   "source": [
    "# Joining the train and test dataset so as to prevent doing the same operation on train and test dataset twice"
   ]
  },
  {
   "cell_type": "code",
   "execution_count": 69,
   "metadata": {
    "collapsed": true
   },
   "outputs": [],
   "source": [
    "df = train.append(test, ignore_index = True)"
   ]
  },
  {
   "cell_type": "code",
   "execution_count": 70,
   "metadata": {
    "collapsed": false
   },
   "outputs": [
    {
     "data": {
      "text/html": [
       "<div>\n",
       "<table border=\"1\" class=\"dataframe\">\n",
       "  <thead>\n",
       "    <tr style=\"text-align: right;\">\n",
       "      <th></th>\n",
       "      <th>amount_tsh</th>\n",
       "      <th>gps_height</th>\n",
       "      <th>longitude</th>\n",
       "      <th>latitude</th>\n",
       "      <th>num_private</th>\n",
       "      <th>region_code</th>\n",
       "      <th>district_code</th>\n",
       "      <th>population</th>\n",
       "      <th>construction_year</th>\n",
       "    </tr>\n",
       "  </thead>\n",
       "  <tbody>\n",
       "    <tr>\n",
       "      <th>count</th>\n",
       "      <td>74250.000000</td>\n",
       "      <td>74250.000000</td>\n",
       "      <td>74250.000000</td>\n",
       "      <td>7.425000e+04</td>\n",
       "      <td>74250.000000</td>\n",
       "      <td>74250.000000</td>\n",
       "      <td>74250.000000</td>\n",
       "      <td>74250.000000</td>\n",
       "      <td>74250.000000</td>\n",
       "    </tr>\n",
       "    <tr>\n",
       "      <th>mean</th>\n",
       "      <td>318.685704</td>\n",
       "      <td>665.667313</td>\n",
       "      <td>34.074262</td>\n",
       "      <td>-5.701771e+00</td>\n",
       "      <td>0.462330</td>\n",
       "      <td>15.265414</td>\n",
       "      <td>5.629077</td>\n",
       "      <td>180.750828</td>\n",
       "      <td>1298.463650</td>\n",
       "    </tr>\n",
       "    <tr>\n",
       "      <th>std</th>\n",
       "      <td>2906.762364</td>\n",
       "      <td>692.761033</td>\n",
       "      <td>6.572519</td>\n",
       "      <td>2.944969e+00</td>\n",
       "      <td>11.537879</td>\n",
       "      <td>17.508907</td>\n",
       "      <td>9.641636</td>\n",
       "      <td>471.086120</td>\n",
       "      <td>952.349375</td>\n",
       "    </tr>\n",
       "    <tr>\n",
       "      <th>min</th>\n",
       "      <td>0.000000</td>\n",
       "      <td>-90.000000</td>\n",
       "      <td>0.000000</td>\n",
       "      <td>-1.164944e+01</td>\n",
       "      <td>0.000000</td>\n",
       "      <td>1.000000</td>\n",
       "      <td>0.000000</td>\n",
       "      <td>0.000000</td>\n",
       "      <td>0.000000</td>\n",
       "    </tr>\n",
       "    <tr>\n",
       "      <th>25%</th>\n",
       "      <td>0.000000</td>\n",
       "      <td>0.000000</td>\n",
       "      <td>33.086819</td>\n",
       "      <td>-8.525675e+00</td>\n",
       "      <td>0.000000</td>\n",
       "      <td>5.000000</td>\n",
       "      <td>2.000000</td>\n",
       "      <td>0.000000</td>\n",
       "      <td>0.000000</td>\n",
       "    </tr>\n",
       "    <tr>\n",
       "      <th>50%</th>\n",
       "      <td>0.000000</td>\n",
       "      <td>364.000000</td>\n",
       "      <td>34.907475</td>\n",
       "      <td>-5.026540e+00</td>\n",
       "      <td>0.000000</td>\n",
       "      <td>12.000000</td>\n",
       "      <td>3.000000</td>\n",
       "      <td>25.000000</td>\n",
       "      <td>1986.000000</td>\n",
       "    </tr>\n",
       "    <tr>\n",
       "      <th>75%</th>\n",
       "      <td>20.000000</td>\n",
       "      <td>1317.000000</td>\n",
       "      <td>37.181685</td>\n",
       "      <td>-3.325058e+00</td>\n",
       "      <td>0.000000</td>\n",
       "      <td>17.000000</td>\n",
       "      <td>5.000000</td>\n",
       "      <td>215.000000</td>\n",
       "      <td>2004.000000</td>\n",
       "    </tr>\n",
       "    <tr>\n",
       "      <th>max</th>\n",
       "      <td>350000.000000</td>\n",
       "      <td>2777.000000</td>\n",
       "      <td>40.345193</td>\n",
       "      <td>-2.000000e-08</td>\n",
       "      <td>1776.000000</td>\n",
       "      <td>99.000000</td>\n",
       "      <td>80.000000</td>\n",
       "      <td>30500.000000</td>\n",
       "      <td>2013.000000</td>\n",
       "    </tr>\n",
       "  </tbody>\n",
       "</table>\n",
       "</div>"
      ],
      "text/plain": [
       "          amount_tsh    gps_height     longitude      latitude   num_private  \\\n",
       "count   74250.000000  74250.000000  74250.000000  7.425000e+04  74250.000000   \n",
       "mean      318.685704    665.667313     34.074262 -5.701771e+00      0.462330   \n",
       "std      2906.762364    692.761033      6.572519  2.944969e+00     11.537879   \n",
       "min         0.000000    -90.000000      0.000000 -1.164944e+01      0.000000   \n",
       "25%         0.000000      0.000000     33.086819 -8.525675e+00      0.000000   \n",
       "50%         0.000000    364.000000     34.907475 -5.026540e+00      0.000000   \n",
       "75%        20.000000   1317.000000     37.181685 -3.325058e+00      0.000000   \n",
       "max    350000.000000   2777.000000     40.345193 -2.000000e-08   1776.000000   \n",
       "\n",
       "        region_code  district_code    population  construction_year  \n",
       "count  74250.000000   74250.000000  74250.000000       74250.000000  \n",
       "mean      15.265414       5.629077    180.750828        1298.463650  \n",
       "std       17.508907       9.641636    471.086120         952.349375  \n",
       "min        1.000000       0.000000      0.000000           0.000000  \n",
       "25%        5.000000       2.000000      0.000000           0.000000  \n",
       "50%       12.000000       3.000000     25.000000        1986.000000  \n",
       "75%       17.000000       5.000000    215.000000        2004.000000  \n",
       "max       99.000000      80.000000  30500.000000        2013.000000  "
      ]
     },
     "execution_count": 70,
     "metadata": {},
     "output_type": "execute_result"
    }
   ],
   "source": [
    "df.describe()"
   ]
  },
  {
   "cell_type": "markdown",
   "metadata": {},
   "source": [
    "# For the continuous variables\n",
    "1. For variable amount_tsh, most of the values are 0.  \n",
    "2. The latitude values are between -5.7 to -2. Similarly the longitude values are between 34.07 and 40.34.  \n",
    "3. No description is available for num_private variable so we will have to drop this variable.  \n",
    "4. The region codes and district codes are already given . They are given as continuous variables but they are acually categorial variables. We will change them into categorical variables  \n",
    "5. Population and construction year might have a significant impact on the outcome. However these two variables have a lot of zeros which is not logical. It means that all these zeros are missing values and we will have treat these zeros. We will fill these zeros of population with median value and the zeros of construction year with the most frequent value"
   ]
  },
  {
   "cell_type": "code",
   "execution_count": 71,
   "metadata": {
    "collapsed": true
   },
   "outputs": [],
   "source": [
    "df = df.drop(['num_private'], axis = 1)"
   ]
  },
  {
   "cell_type": "markdown",
   "metadata": {},
   "source": [
    "# Total Static Head"
   ]
  },
  {
   "cell_type": "code",
   "execution_count": 72,
   "metadata": {
    "collapsed": false
   },
   "outputs": [
    {
     "data": {
      "image/png": "[encoded data removed]",
      "text/plain": [
       "<matplotlib.figure.Figure at 0xbe81cad6d8>"
      ]
     },
     "metadata": {},
     "output_type": "display_data"
    }
   ],
   "source": [
    "plt.figure(figsize=(20,6))\n",
    "plt.scatter(range(df.shape[0]), df.amount_tsh.values)\n",
    "plt.xlabel('index', fontsize=12)\n",
    "plt.ylabel('Total Static Head', fontsize=12)\n",
    "plt.show()"
   ]
  },
  {
   "cell_type": "markdown",
   "metadata": {},
   "source": [
    "There are some outliers in the total static head. We will merge those outliers"
   ]
  },
  {
   "cell_type": "code",
   "execution_count": 73,
   "metadata": {
    "collapsed": false
   },
   "outputs": [],
   "source": [
    "ulimit_df = np.percentile(df.amount_tsh.values, 99.9)\n",
    "df.amount_tsh.ix[df.amount_tsh.values>ulimit_df] = ulimit_df"
   ]
  },
  {
   "cell_type": "markdown",
   "metadata": {},
   "source": [
    "# GPS Height"
   ]
  },
  {
   "cell_type": "code",
   "execution_count": 74,
   "metadata": {
    "collapsed": false,
    "scrolled": true
   },
   "outputs": [
    {
     "data": {
      "image/png": "[encoded data removed]",
      "text/plain": [
       "<matplotlib.figure.Figure at 0xbe820700b8>"
      ]
     },
     "metadata": {},
     "output_type": "display_data"
    }
   ],
   "source": [
    "plt.figure(figsize=(20,6))\n",
    "plt.scatter(range(df.shape[0]), df.gps_height.values)\n",
    "plt.xlabel('index', fontsize=12)\n",
    "plt.ylabel('GPS Height', fontsize=12)\n",
    "plt.show()"
   ]
  },
  {
   "cell_type": "markdown",
   "metadata": {},
   "source": [
    "The GPS height is evenly distributed. We will not touch them"
   ]
  },
  {
   "cell_type": "markdown",
   "metadata": {},
   "source": [
    "# Longitude"
   ]
  },
  {
   "cell_type": "code",
   "execution_count": 75,
   "metadata": {
    "collapsed": false,
    "scrolled": true
   },
   "outputs": [
    {
     "data": {
      "image/png": "[encoded data removed]",
      "text/plain": [
       "<matplotlib.figure.Figure at 0xbe82000b70>"
      ]
     },
     "metadata": {},
     "output_type": "display_data"
    }
   ],
   "source": [
    "plt.figure(figsize=(20,6))\n",
    "plt.scatter(range(df.shape[0]), df.longitude.values)\n",
    "plt.xlabel('index', fontsize=12)\n",
    "plt.ylabel('Longitude', fontsize=12)\n",
    "plt.show()"
   ]
  },
  {
   "cell_type": "markdown",
   "metadata": {},
   "source": [
    "# Latitude"
   ]
  },
  {
   "cell_type": "code",
   "execution_count": 76,
   "metadata": {
    "collapsed": false,
    "scrolled": true
   },
   "outputs": [
    {
     "data": {
      "image/png": "[encoded data removed]",
      "text/plain": [
       "<matplotlib.figure.Figure at 0xbe83fab780>"
      ]
     },
     "metadata": {},
     "output_type": "display_data"
    }
   ],
   "source": [
    "plt.figure(figsize=(20,6))\n",
    "plt.scatter(range(df.shape[0]), df.latitude.values)\n",
    "plt.xlabel('index', fontsize=12)\n",
    "plt.ylabel('latitude', fontsize=12)\n",
    "plt.show()"
   ]
  },
  {
   "cell_type": "markdown",
   "metadata": {},
   "source": [
    "One thing to note here is that those there are lots of missing values for longitude and latitude disguised in the form of zeros. We will drop longitude and latitudes. We already have region codes and district codes. So we will use those variables instead of latitudes and longitudes"
   ]
  },
  {
   "cell_type": "code",
   "execution_count": 77,
   "metadata": {
    "collapsed": true
   },
   "outputs": [],
   "source": [
    "df = df.drop(['longitude','latitude'], axis = 1)"
   ]
  },
  {
   "cell_type": "markdown",
   "metadata": {},
   "source": [
    "Treating the missing values of population and construction year"
   ]
  },
  {
   "cell_type": "code",
   "execution_count": 78,
   "metadata": {
    "collapsed": false
   },
   "outputs": [
    {
     "data": {
      "text/plain": [
       "False    47416\n",
       "True     26834\n",
       "Name: population, dtype: int64"
      ]
     },
     "execution_count": 78,
     "metadata": {},
     "output_type": "execute_result"
    }
   ],
   "source": [
    "(df['population']==0).value_counts()"
   ]
  },
  {
   "cell_type": "code",
   "execution_count": 79,
   "metadata": {
    "collapsed": false
   },
   "outputs": [
    {
     "data": {
      "text/plain": [
       "False    48281\n",
       "True     25969\n",
       "Name: construction_year, dtype: int64"
      ]
     },
     "execution_count": 79,
     "metadata": {},
     "output_type": "execute_result"
    }
   ],
   "source": [
    "(df['construction_year']==0).value_counts()"
   ]
  },
  {
   "cell_type": "markdown",
   "metadata": {},
   "source": [
    "We will fill the missing values of population with the median and the construction year with the most frequent value"
   ]
  },
  {
   "cell_type": "code",
   "execution_count": 80,
   "metadata": {
    "collapsed": false
   },
   "outputs": [],
   "source": [
    "df['population'] = df['population'].fillna(df['population'].median())\n",
    "if df['construction_year'].value_counts().index[0]==0:\n",
    "    df['construction_year'] = df['construction_year'].fillna(df['construction_year'].value_counts().index[1])\n",
    "else:\n",
    "    df['construction_year'] = df['construction_year'].fillna(df['construction_year'].value_counts().index[0])"
   ]
  },
  {
   "cell_type": "code",
   "execution_count": 81,
   "metadata": {
    "collapsed": true
   },
   "outputs": [],
   "source": [
    "df['region_code'] = df['region_code'].astype(object)\n",
    "df['district_code'] = df['district_code'].astype(object)"
   ]
  },
  {
   "cell_type": "code",
   "execution_count": 82,
   "metadata": {
    "collapsed": false,
    "scrolled": false
   },
   "outputs": [
    {
     "data": {
      "text/html": [
       "<div>\n",
       "<table border=\"1\" class=\"dataframe\">\n",
       "  <thead>\n",
       "    <tr style=\"text-align: right;\">\n",
       "      <th></th>\n",
       "      <th>amount_tsh</th>\n",
       "      <th>gps_height</th>\n",
       "      <th>population</th>\n",
       "      <th>construction_year</th>\n",
       "    </tr>\n",
       "  </thead>\n",
       "  <tbody>\n",
       "    <tr>\n",
       "      <th>count</th>\n",
       "      <td>74250.000000</td>\n",
       "      <td>74250.000000</td>\n",
       "      <td>74250.000000</td>\n",
       "      <td>74250.000000</td>\n",
       "    </tr>\n",
       "    <tr>\n",
       "      <th>mean</th>\n",
       "      <td>276.167186</td>\n",
       "      <td>665.667313</td>\n",
       "      <td>180.750828</td>\n",
       "      <td>1298.463650</td>\n",
       "    </tr>\n",
       "    <tr>\n",
       "      <th>std</th>\n",
       "      <td>1255.914955</td>\n",
       "      <td>692.761033</td>\n",
       "      <td>471.086120</td>\n",
       "      <td>952.349375</td>\n",
       "    </tr>\n",
       "    <tr>\n",
       "      <th>min</th>\n",
       "      <td>0.000000</td>\n",
       "      <td>-90.000000</td>\n",
       "      <td>0.000000</td>\n",
       "      <td>0.000000</td>\n",
       "    </tr>\n",
       "    <tr>\n",
       "      <th>25%</th>\n",
       "      <td>0.000000</td>\n",
       "      <td>0.000000</td>\n",
       "      <td>0.000000</td>\n",
       "      <td>0.000000</td>\n",
       "    </tr>\n",
       "    <tr>\n",
       "      <th>50%</th>\n",
       "      <td>0.000000</td>\n",
       "      <td>364.000000</td>\n",
       "      <td>25.000000</td>\n",
       "      <td>1986.000000</td>\n",
       "    </tr>\n",
       "    <tr>\n",
       "      <th>75%</th>\n",
       "      <td>20.000000</td>\n",
       "      <td>1317.000000</td>\n",
       "      <td>215.000000</td>\n",
       "      <td>2004.000000</td>\n",
       "    </tr>\n",
       "    <tr>\n",
       "      <th>max</th>\n",
       "      <td>20000.000000</td>\n",
       "      <td>2777.000000</td>\n",
       "      <td>30500.000000</td>\n",
       "      <td>2013.000000</td>\n",
       "    </tr>\n",
       "  </tbody>\n",
       "</table>\n",
       "</div>"
      ],
      "text/plain": [
       "         amount_tsh    gps_height    population  construction_year\n",
       "count  74250.000000  74250.000000  74250.000000       74250.000000\n",
       "mean     276.167186    665.667313    180.750828        1298.463650\n",
       "std     1255.914955    692.761033    471.086120         952.349375\n",
       "min        0.000000    -90.000000      0.000000           0.000000\n",
       "25%        0.000000      0.000000      0.000000           0.000000\n",
       "50%        0.000000    364.000000     25.000000        1986.000000\n",
       "75%       20.000000   1317.000000    215.000000        2004.000000\n",
       "max    20000.000000   2777.000000  30500.000000        2013.000000"
      ]
     },
     "execution_count": 82,
     "metadata": {},
     "output_type": "execute_result"
    }
   ],
   "source": [
    "df.describe()"
   ]
  },
  {
   "cell_type": "code",
   "execution_count": 83,
   "metadata": {
    "collapsed": false,
    "scrolled": false
   },
   "outputs": [
    {
     "name": "stdout",
     "output_type": "stream",
     "text": [
      "The categorical variables in the dataset are\n"
     ]
    },
    {
     "data": {
      "text/html": [
       "<div>\n",
       "<table border=\"1\" class=\"dataframe\">\n",
       "  <thead>\n",
       "    <tr style=\"text-align: right;\">\n",
       "      <th></th>\n",
       "      <th>date_recorded</th>\n",
       "      <th>funder</th>\n",
       "      <th>installer</th>\n",
       "      <th>wpt_name</th>\n",
       "      <th>basin</th>\n",
       "      <th>subvillage</th>\n",
       "      <th>region</th>\n",
       "      <th>region_code</th>\n",
       "      <th>district_code</th>\n",
       "      <th>lga</th>\n",
       "      <th>ward</th>\n",
       "      <th>...</th>\n",
       "      <th>payment</th>\n",
       "      <th>payment_type</th>\n",
       "      <th>water_quality</th>\n",
       "      <th>quality_group</th>\n",
       "      <th>quantity</th>\n",
       "      <th>quantity_group</th>\n",
       "      <th>source</th>\n",
       "      <th>source_type</th>\n",
       "      <th>source_class</th>\n",
       "      <th>waterpoint_type</th>\n",
       "      <th>waterpoint_type_group</th>\n",
       "    </tr>\n",
       "  </thead>\n",
       "  <tbody>\n",
       "    <tr>\n",
       "      <th>0</th>\n",
       "      <td>2011-03-14</td>\n",
       "      <td>Roman</td>\n",
       "      <td>Roman</td>\n",
       "      <td>none</td>\n",
       "      <td>Lake Nyasa</td>\n",
       "      <td>Mnyusi B</td>\n",
       "      <td>Iringa</td>\n",
       "      <td>11</td>\n",
       "      <td>5</td>\n",
       "      <td>Ludewa</td>\n",
       "      <td>Mundindi</td>\n",
       "      <td>...</td>\n",
       "      <td>pay annually</td>\n",
       "      <td>annually</td>\n",
       "      <td>soft</td>\n",
       "      <td>good</td>\n",
       "      <td>enough</td>\n",
       "      <td>enough</td>\n",
       "      <td>spring</td>\n",
       "      <td>spring</td>\n",
       "      <td>groundwater</td>\n",
       "      <td>communal standpipe</td>\n",
       "      <td>communal standpipe</td>\n",
       "    </tr>\n",
       "  </tbody>\n",
       "</table>\n",
       "<p>1 rows × 32 columns</p>\n",
       "</div>"
      ],
      "text/plain": [
       "  date_recorded funder installer wpt_name       basin subvillage  region  \\\n",
       "0    2011-03-14  Roman     Roman     none  Lake Nyasa   Mnyusi B  Iringa   \n",
       "\n",
       "  region_code district_code     lga      ward          ...           \\\n",
       "0          11             5  Ludewa  Mundindi          ...            \n",
       "\n",
       "        payment payment_type water_quality quality_group quantity  \\\n",
       "0  pay annually     annually          soft          good   enough   \n",
       "\n",
       "  quantity_group  source source_type source_class     waterpoint_type  \\\n",
       "0         enough  spring      spring  groundwater  communal standpipe   \n",
       "\n",
       "  waterpoint_type_group  \n",
       "0    communal standpipe  \n",
       "\n",
       "[1 rows x 32 columns]"
      ]
     },
     "execution_count": 83,
     "metadata": {},
     "output_type": "execute_result"
    }
   ],
   "source": [
    "cont = []\n",
    "for col in df.columns.values:\n",
    "    if df[col].dtype != 'object':\n",
    "        cont.append(col)\n",
    "df_cont = df[cont]\n",
    "df_cat = df.drop(cont, axis=1)\n",
    "print (\"The categorical variables in the dataset are\")\n",
    "df_cat.head(1)"
   ]
  },
  {
   "cell_type": "code",
   "execution_count": 84,
   "metadata": {
    "collapsed": false,
    "scrolled": true
   },
   "outputs": [
    {
     "data": {
      "text/html": [
       "<div>\n",
       "<table border=\"1\" class=\"dataframe\">\n",
       "  <thead>\n",
       "    <tr style=\"text-align: right;\">\n",
       "      <th></th>\n",
       "      <th>date_recorded</th>\n",
       "      <th>funder</th>\n",
       "      <th>installer</th>\n",
       "      <th>wpt_name</th>\n",
       "      <th>basin</th>\n",
       "      <th>subvillage</th>\n",
       "      <th>region</th>\n",
       "      <th>region_code</th>\n",
       "      <th>district_code</th>\n",
       "      <th>lga</th>\n",
       "      <th>ward</th>\n",
       "      <th>public_meeting</th>\n",
       "      <th>recorded_by</th>\n",
       "      <th>scheme_management</th>\n",
       "      <th>scheme_name</th>\n",
       "      <th>permit</th>\n",
       "      <th>extraction_type</th>\n",
       "      <th>extraction_type_group</th>\n",
       "      <th>extraction_type_class</th>\n",
       "      <th>management</th>\n",
       "      <th>management_group</th>\n",
       "      <th>payment</th>\n",
       "      <th>payment_type</th>\n",
       "      <th>water_quality</th>\n",
       "      <th>quality_group</th>\n",
       "      <th>quantity</th>\n",
       "      <th>quantity_group</th>\n",
       "      <th>source</th>\n",
       "      <th>source_type</th>\n",
       "      <th>source_class</th>\n",
       "      <th>waterpoint_type</th>\n",
       "      <th>waterpoint_type_group</th>\n",
       "    </tr>\n",
       "  </thead>\n",
       "  <tbody>\n",
       "    <tr>\n",
       "      <th>count</th>\n",
       "      <td>74250</td>\n",
       "      <td>69746</td>\n",
       "      <td>69718</td>\n",
       "      <td>74250</td>\n",
       "      <td>74250</td>\n",
       "      <td>73780</td>\n",
       "      <td>74250</td>\n",
       "      <td>74250</td>\n",
       "      <td>74250</td>\n",
       "      <td>74250</td>\n",
       "      <td>74250</td>\n",
       "      <td>70095</td>\n",
       "      <td>74250</td>\n",
       "      <td>69404</td>\n",
       "      <td>38992</td>\n",
       "      <td>70457</td>\n",
       "      <td>74250</td>\n",
       "      <td>74250</td>\n",
       "      <td>74250</td>\n",
       "      <td>74250</td>\n",
       "      <td>74250</td>\n",
       "      <td>74250</td>\n",
       "      <td>74250</td>\n",
       "      <td>74250</td>\n",
       "      <td>74250</td>\n",
       "      <td>74250</td>\n",
       "      <td>74250</td>\n",
       "      <td>74250</td>\n",
       "      <td>74250</td>\n",
       "      <td>74250</td>\n",
       "      <td>74250</td>\n",
       "      <td>74250</td>\n",
       "    </tr>\n",
       "    <tr>\n",
       "      <th>unique</th>\n",
       "      <td>369</td>\n",
       "      <td>2140</td>\n",
       "      <td>2410</td>\n",
       "      <td>45684</td>\n",
       "      <td>9</td>\n",
       "      <td>21425</td>\n",
       "      <td>21</td>\n",
       "      <td>27</td>\n",
       "      <td>20</td>\n",
       "      <td>125</td>\n",
       "      <td>2098</td>\n",
       "      <td>2</td>\n",
       "      <td>1</td>\n",
       "      <td>12</td>\n",
       "      <td>2868</td>\n",
       "      <td>2</td>\n",
       "      <td>18</td>\n",
       "      <td>13</td>\n",
       "      <td>7</td>\n",
       "      <td>12</td>\n",
       "      <td>5</td>\n",
       "      <td>7</td>\n",
       "      <td>7</td>\n",
       "      <td>8</td>\n",
       "      <td>6</td>\n",
       "      <td>5</td>\n",
       "      <td>5</td>\n",
       "      <td>10</td>\n",
       "      <td>7</td>\n",
       "      <td>3</td>\n",
       "      <td>7</td>\n",
       "      <td>6</td>\n",
       "    </tr>\n",
       "    <tr>\n",
       "      <th>top</th>\n",
       "      <td>2011-03-17</td>\n",
       "      <td>Government Of Tanzania</td>\n",
       "      <td>DWE</td>\n",
       "      <td>none</td>\n",
       "      <td>Lake Victoria</td>\n",
       "      <td>Shuleni</td>\n",
       "      <td>Iringa</td>\n",
       "      <td>11</td>\n",
       "      <td>1</td>\n",
       "      <td>Njombe</td>\n",
       "      <td>Igosi</td>\n",
       "      <td>True</td>\n",
       "      <td>GeoData Consultants Ltd</td>\n",
       "      <td>VWC</td>\n",
       "      <td>K</td>\n",
       "      <td>True</td>\n",
       "      <td>gravity</td>\n",
       "      <td>gravity</td>\n",
       "      <td>gravity</td>\n",
       "      <td>vwc</td>\n",
       "      <td>user-group</td>\n",
       "      <td>never pay</td>\n",
       "      <td>never pay</td>\n",
       "      <td>soft</td>\n",
       "      <td>good</td>\n",
       "      <td>enough</td>\n",
       "      <td>enough</td>\n",
       "      <td>spring</td>\n",
       "      <td>spring</td>\n",
       "      <td>groundwater</td>\n",
       "      <td>communal standpipe</td>\n",
       "      <td>communal standpipe</td>\n",
       "    </tr>\n",
       "    <tr>\n",
       "      <th>freq</th>\n",
       "      <td>695</td>\n",
       "      <td>11299</td>\n",
       "      <td>21751</td>\n",
       "      <td>4440</td>\n",
       "      <td>12871</td>\n",
       "      <td>646</td>\n",
       "      <td>6599</td>\n",
       "      <td>6608</td>\n",
       "      <td>15299</td>\n",
       "      <td>3128</td>\n",
       "      <td>386</td>\n",
       "      <td>63749</td>\n",
       "      <td>74250</td>\n",
       "      <td>45917</td>\n",
       "      <td>858</td>\n",
       "      <td>48606</td>\n",
       "      <td>33263</td>\n",
       "      <td>33263</td>\n",
       "      <td>33263</td>\n",
       "      <td>50624</td>\n",
       "      <td>65538</td>\n",
       "      <td>31712</td>\n",
       "      <td>31712</td>\n",
       "      <td>63505</td>\n",
       "      <td>63505</td>\n",
       "      <td>41522</td>\n",
       "      <td>41522</td>\n",
       "      <td>21216</td>\n",
       "      <td>21216</td>\n",
       "      <td>57286</td>\n",
       "      <td>35628</td>\n",
       "      <td>43239</td>\n",
       "    </tr>\n",
       "  </tbody>\n",
       "</table>\n",
       "</div>"
      ],
      "text/plain": [
       "       date_recorded                  funder installer wpt_name  \\\n",
       "count          74250                   69746     69718    74250   \n",
       "unique           369                    2140      2410    45684   \n",
       "top       2011-03-17  Government Of Tanzania       DWE     none   \n",
       "freq             695                   11299     21751     4440   \n",
       "\n",
       "                basin subvillage  region  region_code  district_code     lga  \\\n",
       "count           74250      73780   74250        74250          74250   74250   \n",
       "unique              9      21425      21           27             20     125   \n",
       "top     Lake Victoria    Shuleni  Iringa           11              1  Njombe   \n",
       "freq            12871        646    6599         6608          15299    3128   \n",
       "\n",
       "         ward public_meeting              recorded_by scheme_management  \\\n",
       "count   74250          70095                    74250             69404   \n",
       "unique   2098              2                        1                12   \n",
       "top     Igosi           True  GeoData Consultants Ltd               VWC   \n",
       "freq      386          63749                    74250             45917   \n",
       "\n",
       "       scheme_name permit extraction_type extraction_type_group  \\\n",
       "count        38992  70457           74250                 74250   \n",
       "unique        2868      2              18                    13   \n",
       "top              K   True         gravity               gravity   \n",
       "freq           858  48606           33263                 33263   \n",
       "\n",
       "       extraction_type_class management management_group    payment  \\\n",
       "count                  74250      74250            74250      74250   \n",
       "unique                     7         12                5          7   \n",
       "top                  gravity        vwc       user-group  never pay   \n",
       "freq                   33263      50624            65538      31712   \n",
       "\n",
       "       payment_type water_quality quality_group quantity quantity_group  \\\n",
       "count         74250         74250         74250    74250          74250   \n",
       "unique            7             8             6        5              5   \n",
       "top       never pay          soft          good   enough         enough   \n",
       "freq          31712         63505         63505    41522          41522   \n",
       "\n",
       "        source source_type source_class     waterpoint_type  \\\n",
       "count    74250       74250        74250               74250   \n",
       "unique      10           7            3                   7   \n",
       "top     spring      spring  groundwater  communal standpipe   \n",
       "freq     21216       21216        57286               35628   \n",
       "\n",
       "       waterpoint_type_group  \n",
       "count                  74250  \n",
       "unique                     6  \n",
       "top       communal standpipe  \n",
       "freq                   43239  "
      ]
     },
     "execution_count": 84,
     "metadata": {},
     "output_type": "execute_result"
    }
   ],
   "source": [
    "pd.set_option('display.max_columns', df.shape[1])\n",
    "df_cat.describe()"
   ]
  },
  {
   "cell_type": "code",
   "execution_count": 85,
   "metadata": {
    "collapsed": false,
    "scrolled": true
   },
   "outputs": [
    {
     "name": "stdout",
     "output_type": "stream",
     "text": [
      "funder 4504\n",
      "installer 4532\n",
      "subvillage 470\n",
      "public_meeting 4155\n",
      "scheme_management 4846\n",
      "scheme_name 35258\n",
      "permit 3793\n"
     ]
    }
   ],
   "source": [
    "for col in df_cat.columns.values:\n",
    "    if np.sum(df_cat[col].isnull())>0:\n",
    "        value = np.sum(df_cat[col].isnull())\n",
    "        print(col,value)"
   ]
  },
  {
   "cell_type": "markdown",
   "metadata": {},
   "source": [
    "# For the categorical variables\n",
    "1. We will modify the date recorded variable and take only the year\n",
    "2. We will drop the funder variable as I am not able to see how funder can affect the status of the pump.\n",
    "3. Installer might be a very important variable. We will impute the missing the missing values with the most frequent values\n",
    "4. Water point name wpt_name variable is not important as the name of the waterpoint will not have any impact on the status of the pump\n",
    "5. We are going to drop the variable region as we already have region_code\n",
    "6. We will drop the public meeting variable\n",
    "7. From the description of the dataset, the scheme name and the scheme management variables seem to be similar. We will keep the scheme management variable and drop the scheme name variable as it has a lot of missing values\n",
    "8. We will fill the NA values of permit variable with the most frequent value.\n",
    "9. Out of extraction_type, extraction_type_group, extraction_type-class, we are going to keep only the extraction_type variable. These three variables are similar. The number of unique values in this feature is the highest and that is why we are going to keep this variable.\n",
    "10. Out of payment and payment_type variables we will keep only one variable\n",
    "11. We will drop the water_quality, quality_group. Quality will not have an impact on \n",
    "12. Out of quantity and quantity_type variables we keep only one variable\n",
    "13. Out of source, source_type, source_class we will keep the source variable as these three variables are quite similar and the source variable has the most variations\n",
    "14. Out of waterpoint_type and waterpoint_type_group we will keep the waterpoint_type variable as these two variables are quite similar and the waterpoint_type variable has the most variations"
   ]
  },
  {
   "cell_type": "code",
   "execution_count": 86,
   "metadata": {
    "collapsed": false
   },
   "outputs": [],
   "source": [
    "df[\"entered_year\"] = pd.to_datetime(df[\"date_recorded\"]).dt.year\n",
    "df = df.drop(['date_recorded','funder','wpt_name','region','scheme_name','public_meeting','extraction_type_group',\n",
    "              'extraction_type_class','payment_type','water_quality','quality_group','quantity_group',\n",
    "              'source_type','source_class','waterpoint_type_group'], axis = 1)\n",
    "df['subvillage'] = df['subvillage'].fillna(df['subvillage'].value_counts().index[0])\n",
    "df['installer'] = df['installer'].fillna(df['installer'].value_counts().index[0])\n",
    "df['scheme_management'] = df['scheme_management'].fillna(df['scheme_management'].value_counts().index[0])\n",
    "df['permit'] = df['permit'].fillna(df['permit'].value_counts().index[0])"
   ]
  },
  {
   "cell_type": "markdown",
   "metadata": {},
   "source": [
    "The variables installer, subvillage, region_codes, district_codes, ward, lga has lots of classes. So we will have to decrease the classes. We will divide the  dataframe again into train and test."
   ]
  },
  {
   "cell_type": "code",
   "execution_count": 87,
   "metadata": {
    "collapsed": true
   },
   "outputs": [],
   "source": [
    "train = df.iloc[:59400,:]\n",
    "test = df.iloc[59400:,:]"
   ]
  },
  {
   "cell_type": "markdown",
   "metadata": {},
   "source": [
    "We are going to print the number of unique values of those variables which has lots of classes in the train and test  datasset"
   ]
  },
  {
   "cell_type": "code",
   "execution_count": 88,
   "metadata": {
    "collapsed": false
   },
   "outputs": [
    {
     "name": "stdout",
     "output_type": "stream",
     "text": [
      "Number of installers in Train dataset: 2145\n",
      "Number of installers in Test dataset: 1091\n",
      "Number of subvillages in Train dataset: 19287\n",
      "Number of subvillages in Test dataset: 8443\n",
      "Number of LGAs in Train dataset: 125\n",
      "Number of LGAs in Test dataset: 125\n",
      "Number of wards in Train dataset: 2092\n",
      "Number of wards in Test dataset: 1959\n"
     ]
    }
   ],
   "source": [
    "train_installers_list = train.installer.unique()\n",
    "test_installers_list = test.installer.unique()\n",
    "print(\"Number of installers in Train dataset: {0}\".format(len(train_installers_list)))\n",
    "print(\"Number of installers in Test dataset: {0}\".format(len(test_installers_list)))\n",
    "\n",
    "train_subvillages_list = train.subvillage.unique()\n",
    "test_subvillages_list = test.subvillage.unique()\n",
    "print(\"Number of subvillages in Train dataset: {0}\".format(len(train_subvillages_list)))\n",
    "print(\"Number of subvillages in Test dataset: {0}\".format(len(test_subvillages_list)))\n",
    "\n",
    "train_lga_list = train.lga.unique()\n",
    "test_lga_list = test.lga.unique()\n",
    "print(\"Number of LGAs in Train dataset: {0}\".format(len(train_lga_list)))\n",
    "print(\"Number of LGAs in Test dataset: {0}\".format(len(test_lga_list)))\n",
    "\n",
    "train_ward_list = train.ward.unique()\n",
    "test_ward_list = test.ward.unique()\n",
    "print(\"Number of wards in Train dataset: {0}\".format(len(train_ward_list)))\n",
    "print(\"Number of wards in Test dataset: {0}\".format(len(test_ward_list)))"
   ]
  },
  {
   "cell_type": "markdown",
   "metadata": {},
   "source": [
    "We are going to see how many classes of these variables are present in train and absent in test and vice versa. For ward and lga is not that high "
   ]
  },
  {
   "cell_type": "code",
   "execution_count": 89,
   "metadata": {
    "collapsed": false
   },
   "outputs": [
    {
     "name": "stdout",
     "output_type": "stream",
     "text": [
      "1319 installers are featured in train dataset but not in test dataset\n",
      "265 installers are featured in test dataset but not in train dataset\n",
      "12982 subvillages are featured in train dataset but not in test dataset\n",
      "2138 subvillages are featured in test dataset but not in train dataset\n"
     ]
    }
   ],
   "source": [
    "installers_not_in_test = set(train_installers_list) - set(test_installers_list)\n",
    "installers_not_in_train = set(test_installers_list) - set(train_installers_list)\n",
    "\n",
    "print(\"{} installers are featured in train dataset but not in test dataset\".format(len(installers_not_in_test)))\n",
    "print(\"{} installers are featured in test dataset but not in train dataset\".format(len(installers_not_in_train)))\n",
    "\n",
    "subvillages_not_in_test = set(train_subvillages_list) - set(test_subvillages_list)\n",
    "subvillages_not_in_train = set(test_subvillages_list) - set(train_subvillages_list)\n",
    "\n",
    "print(\"{} subvillages are featured in train dataset but not in test dataset\".format(len(subvillages_not_in_test)))\n",
    "print(\"{} subvillages are featured in test dataset but not in train dataset\".format(len(subvillages_not_in_train)))"
   ]
  },
  {
   "cell_type": "markdown",
   "metadata": {},
   "source": [
    "We will create two dataframes. Same thing will be done for the other variables also which has lots of classes"
   ]
  },
  {
   "cell_type": "code",
   "execution_count": 90,
   "metadata": {
    "collapsed": false
   },
   "outputs": [
    {
     "data": {
      "text/html": [
       "<div>\n",
       "<table border=\"1\" class=\"dataframe\">\n",
       "  <thead>\n",
       "    <tr style=\"text-align: right;\">\n",
       "      <th></th>\n",
       "      <th>installer</th>\n",
       "      <th>functional</th>\n",
       "      <th>functional needs repair</th>\n",
       "      <th>non functional</th>\n",
       "    </tr>\n",
       "  </thead>\n",
       "  <tbody>\n",
       "    <tr>\n",
       "      <th>0</th>\n",
       "      <td>Roman</td>\n",
       "      <td>1</td>\n",
       "      <td>0</td>\n",
       "      <td>0</td>\n",
       "    </tr>\n",
       "    <tr>\n",
       "      <th>1</th>\n",
       "      <td>GRUMETI</td>\n",
       "      <td>1</td>\n",
       "      <td>0</td>\n",
       "      <td>0</td>\n",
       "    </tr>\n",
       "  </tbody>\n",
       "</table>\n",
       "</div>"
      ],
      "text/plain": [
       "  installer  functional  functional needs repair  non functional\n",
       "0     Roman           1                        0               0\n",
       "1   GRUMETI           1                        0               0"
      ]
     },
     "execution_count": 90,
     "metadata": {},
     "output_type": "execute_result"
    }
   ],
   "source": [
    "train_installer_target = pd.concat([train['installer'],train_target], axis=1)\n",
    "target_dummies = pd.get_dummies(train_installer_target['status_group'])\n",
    "train_installer_target = train_installer_target.drop(['status_group'], axis = 1)\n",
    "train_installer_target = pd.concat([train_installer_target,target_dummies], axis=1)\n",
    "train_installer_target.head(2)"
   ]
  },
  {
   "cell_type": "code",
   "execution_count": 91,
   "metadata": {
    "collapsed": false
   },
   "outputs": [
    {
     "data": {
      "text/html": [
       "<div>\n",
       "<table border=\"1\" class=\"dataframe\">\n",
       "  <thead>\n",
       "    <tr style=\"text-align: right;\">\n",
       "      <th></th>\n",
       "      <th>subvillage</th>\n",
       "      <th>functional</th>\n",
       "      <th>functional needs repair</th>\n",
       "      <th>non functional</th>\n",
       "    </tr>\n",
       "  </thead>\n",
       "  <tbody>\n",
       "    <tr>\n",
       "      <th>0</th>\n",
       "      <td>Mnyusi B</td>\n",
       "      <td>1</td>\n",
       "      <td>0</td>\n",
       "      <td>0</td>\n",
       "    </tr>\n",
       "    <tr>\n",
       "      <th>1</th>\n",
       "      <td>Nyamara</td>\n",
       "      <td>1</td>\n",
       "      <td>0</td>\n",
       "      <td>0</td>\n",
       "    </tr>\n",
       "  </tbody>\n",
       "</table>\n",
       "</div>"
      ],
      "text/plain": [
       "  subvillage  functional  functional needs repair  non functional\n",
       "0   Mnyusi B           1                        0               0\n",
       "1    Nyamara           1                        0               0"
      ]
     },
     "execution_count": 91,
     "metadata": {},
     "output_type": "execute_result"
    }
   ],
   "source": [
    "train_subvillages_target = pd.concat([train['subvillage'],train_target], axis=1)\n",
    "target_dummies = pd.get_dummies(train_subvillages_target['status_group'])\n",
    "train_subvillages_target = train_subvillages_target.drop(['status_group'], axis = 1)\n",
    "train_subvillages_target = pd.concat([train_subvillages_target,target_dummies], axis=1)\n",
    "train_subvillages_target.head(2)"
   ]
  },
  {
   "cell_type": "code",
   "execution_count": 92,
   "metadata": {
    "collapsed": false
   },
   "outputs": [
    {
     "data": {
      "text/html": [
       "<div>\n",
       "<table border=\"1\" class=\"dataframe\">\n",
       "  <thead>\n",
       "    <tr style=\"text-align: right;\">\n",
       "      <th></th>\n",
       "      <th>lga</th>\n",
       "      <th>functional</th>\n",
       "      <th>functional needs repair</th>\n",
       "      <th>non functional</th>\n",
       "    </tr>\n",
       "  </thead>\n",
       "  <tbody>\n",
       "    <tr>\n",
       "      <th>0</th>\n",
       "      <td>Ludewa</td>\n",
       "      <td>1</td>\n",
       "      <td>0</td>\n",
       "      <td>0</td>\n",
       "    </tr>\n",
       "    <tr>\n",
       "      <th>1</th>\n",
       "      <td>Serengeti</td>\n",
       "      <td>1</td>\n",
       "      <td>0</td>\n",
       "      <td>0</td>\n",
       "    </tr>\n",
       "  </tbody>\n",
       "</table>\n",
       "</div>"
      ],
      "text/plain": [
       "         lga  functional  functional needs repair  non functional\n",
       "0     Ludewa           1                        0               0\n",
       "1  Serengeti           1                        0               0"
      ]
     },
     "execution_count": 92,
     "metadata": {},
     "output_type": "execute_result"
    }
   ],
   "source": [
    "train_lga_target = pd.concat([train['lga'],train_target], axis=1)\n",
    "target_dummies = pd.get_dummies(train_lga_target['status_group'])\n",
    "train_lga_target = train_lga_target.drop(['status_group'], axis = 1)\n",
    "train_lga_target = pd.concat([train_lga_target,target_dummies], axis=1)\n",
    "train_lga_target.head(2)"
   ]
  },
  {
   "cell_type": "code",
   "execution_count": 93,
   "metadata": {
    "collapsed": false
   },
   "outputs": [
    {
     "data": {
      "text/html": [
       "<div>\n",
       "<table border=\"1\" class=\"dataframe\">\n",
       "  <thead>\n",
       "    <tr style=\"text-align: right;\">\n",
       "      <th></th>\n",
       "      <th>ward</th>\n",
       "      <th>functional</th>\n",
       "      <th>functional needs repair</th>\n",
       "      <th>non functional</th>\n",
       "    </tr>\n",
       "  </thead>\n",
       "  <tbody>\n",
       "    <tr>\n",
       "      <th>0</th>\n",
       "      <td>Mundindi</td>\n",
       "      <td>1</td>\n",
       "      <td>0</td>\n",
       "      <td>0</td>\n",
       "    </tr>\n",
       "    <tr>\n",
       "      <th>1</th>\n",
       "      <td>Natta</td>\n",
       "      <td>1</td>\n",
       "      <td>0</td>\n",
       "      <td>0</td>\n",
       "    </tr>\n",
       "  </tbody>\n",
       "</table>\n",
       "</div>"
      ],
      "text/plain": [
       "       ward  functional  functional needs repair  non functional\n",
       "0  Mundindi           1                        0               0\n",
       "1     Natta           1                        0               0"
      ]
     },
     "execution_count": 93,
     "metadata": {},
     "output_type": "execute_result"
    }
   ],
   "source": [
    "train_ward_target = pd.concat([train['ward'],train_target], axis=1)\n",
    "target_dummies = pd.get_dummies(train_ward_target['status_group'])\n",
    "train_ward_target = train_ward_target.drop(['status_group'], axis = 1)\n",
    "train_ward_target = pd.concat([train_ward_target,target_dummies], axis=1)\n",
    "train_ward_target.head(2)"
   ]
  },
  {
   "cell_type": "markdown",
   "metadata": {},
   "source": [
    "We are going to group the installers and get the proportion for each status of target for each individual installer. Samr thing will be done for the other variables also"
   ]
  },
  {
   "cell_type": "code",
   "execution_count": 94,
   "metadata": {
    "collapsed": false,
    "scrolled": true
   },
   "outputs": [
    {
     "data": {
      "text/html": [
       "<div>\n",
       "<table border=\"1\" class=\"dataframe\">\n",
       "  <thead>\n",
       "    <tr style=\"text-align: right;\">\n",
       "      <th></th>\n",
       "      <th>functional</th>\n",
       "      <th>functional needs repair</th>\n",
       "      <th>non functional</th>\n",
       "      <th>count</th>\n",
       "    </tr>\n",
       "    <tr>\n",
       "      <th>installer</th>\n",
       "      <th></th>\n",
       "      <th></th>\n",
       "      <th></th>\n",
       "      <th></th>\n",
       "    </tr>\n",
       "  </thead>\n",
       "  <tbody>\n",
       "    <tr>\n",
       "      <th>DWE</th>\n",
       "      <td>0.542955</td>\n",
       "      <td>0.097925</td>\n",
       "      <td>0.359120</td>\n",
       "      <td>21057</td>\n",
       "    </tr>\n",
       "    <tr>\n",
       "      <th>Government</th>\n",
       "      <td>0.293151</td>\n",
       "      <td>0.140274</td>\n",
       "      <td>0.566575</td>\n",
       "      <td>1825</td>\n",
       "    </tr>\n",
       "    <tr>\n",
       "      <th>RWE</th>\n",
       "      <td>0.252073</td>\n",
       "      <td>0.113599</td>\n",
       "      <td>0.634328</td>\n",
       "      <td>1206</td>\n",
       "    </tr>\n",
       "    <tr>\n",
       "      <th>Commu</th>\n",
       "      <td>0.683019</td>\n",
       "      <td>0.030189</td>\n",
       "      <td>0.286792</td>\n",
       "      <td>1060</td>\n",
       "    </tr>\n",
       "    <tr>\n",
       "      <th>DANIDA</th>\n",
       "      <td>0.516190</td>\n",
       "      <td>0.079048</td>\n",
       "      <td>0.404762</td>\n",
       "      <td>1050</td>\n",
       "    </tr>\n",
       "  </tbody>\n",
       "</table>\n",
       "</div>"
      ],
      "text/plain": [
       "            functional  functional needs repair  non functional  count\n",
       "installer                                                             \n",
       "DWE           0.542955                 0.097925        0.359120  21057\n",
       "Government    0.293151                 0.140274        0.566575   1825\n",
       "RWE           0.252073                 0.113599        0.634328   1206\n",
       "Commu         0.683019                 0.030189        0.286792   1060\n",
       "DANIDA        0.516190                 0.079048        0.404762   1050"
      ]
     },
     "execution_count": 94,
     "metadata": {},
     "output_type": "execute_result"
    }
   ],
   "source": [
    "train_installer_target_prop = pd.concat([train_installer_target.groupby('installer').mean(),train_installer_target.groupby('installer').count()], axis = 1).iloc[:,:-2]\n",
    "train_installer_target_prop.columns = ['functional','functional needs repair','non functional','count']\n",
    "train_installer_target_prop.sort_values(by='count',ascending=False).head()"
   ]
  },
  {
   "cell_type": "code",
   "execution_count": 95,
   "metadata": {
    "collapsed": false
   },
   "outputs": [
    {
     "data": {
      "text/html": [
       "<div>\n",
       "<table border=\"1\" class=\"dataframe\">\n",
       "  <thead>\n",
       "    <tr style=\"text-align: right;\">\n",
       "      <th></th>\n",
       "      <th>functional</th>\n",
       "      <th>functional needs repair</th>\n",
       "      <th>non functional</th>\n",
       "      <th>count</th>\n",
       "    </tr>\n",
       "    <tr>\n",
       "      <th>subvillage</th>\n",
       "      <th></th>\n",
       "      <th></th>\n",
       "      <th></th>\n",
       "      <th></th>\n",
       "    </tr>\n",
       "  </thead>\n",
       "  <tbody>\n",
       "    <tr>\n",
       "      <th>Shuleni</th>\n",
       "      <td>0.497149</td>\n",
       "      <td>0.051311</td>\n",
       "      <td>0.451539</td>\n",
       "      <td>877</td>\n",
       "    </tr>\n",
       "    <tr>\n",
       "      <th>Madukani</th>\n",
       "      <td>0.488189</td>\n",
       "      <td>0.084646</td>\n",
       "      <td>0.427165</td>\n",
       "      <td>508</td>\n",
       "    </tr>\n",
       "    <tr>\n",
       "      <th>Majengo</th>\n",
       "      <td>0.466135</td>\n",
       "      <td>0.071713</td>\n",
       "      <td>0.462151</td>\n",
       "      <td>502</td>\n",
       "    </tr>\n",
       "    <tr>\n",
       "      <th>Kati</th>\n",
       "      <td>0.576408</td>\n",
       "      <td>0.115282</td>\n",
       "      <td>0.308311</td>\n",
       "      <td>373</td>\n",
       "    </tr>\n",
       "    <tr>\n",
       "      <th>Mtakuja</th>\n",
       "      <td>0.541985</td>\n",
       "      <td>0.053435</td>\n",
       "      <td>0.404580</td>\n",
       "      <td>262</td>\n",
       "    </tr>\n",
       "  </tbody>\n",
       "</table>\n",
       "</div>"
      ],
      "text/plain": [
       "            functional  functional needs repair  non functional  count\n",
       "subvillage                                                            \n",
       "Shuleni       0.497149                 0.051311        0.451539    877\n",
       "Madukani      0.488189                 0.084646        0.427165    508\n",
       "Majengo       0.466135                 0.071713        0.462151    502\n",
       "Kati          0.576408                 0.115282        0.308311    373\n",
       "Mtakuja       0.541985                 0.053435        0.404580    262"
      ]
     },
     "execution_count": 95,
     "metadata": {},
     "output_type": "execute_result"
    }
   ],
   "source": [
    "train_subvillages_target_prop = pd.concat([train_subvillages_target.groupby('subvillage').mean(),train_subvillages_target.groupby('subvillage').count()], axis = 1).iloc[:,:-2]\n",
    "train_subvillages_target_prop.columns = ['functional','functional needs repair','non functional','count']\n",
    "train_subvillages_target_prop.sort_values(by='count',ascending=False).head()"
   ]
  },
  {
   "cell_type": "code",
   "execution_count": 96,
   "metadata": {
    "collapsed": false
   },
   "outputs": [
    {
     "data": {
      "text/html": [
       "<div>\n",
       "<table border=\"1\" class=\"dataframe\">\n",
       "  <thead>\n",
       "    <tr style=\"text-align: right;\">\n",
       "      <th></th>\n",
       "      <th>functional</th>\n",
       "      <th>functional needs repair</th>\n",
       "      <th>non functional</th>\n",
       "      <th>count</th>\n",
       "    </tr>\n",
       "    <tr>\n",
       "      <th>lga</th>\n",
       "      <th></th>\n",
       "      <th></th>\n",
       "      <th></th>\n",
       "      <th></th>\n",
       "    </tr>\n",
       "  </thead>\n",
       "  <tbody>\n",
       "    <tr>\n",
       "      <th>Njombe</th>\n",
       "      <td>0.801838</td>\n",
       "      <td>0.037555</td>\n",
       "      <td>0.160607</td>\n",
       "      <td>2503</td>\n",
       "    </tr>\n",
       "    <tr>\n",
       "      <th>Arusha Rural</th>\n",
       "      <td>0.698882</td>\n",
       "      <td>0.038339</td>\n",
       "      <td>0.262780</td>\n",
       "      <td>1252</td>\n",
       "    </tr>\n",
       "    <tr>\n",
       "      <th>Moshi Rural</th>\n",
       "      <td>0.585931</td>\n",
       "      <td>0.095124</td>\n",
       "      <td>0.318945</td>\n",
       "      <td>1251</td>\n",
       "    </tr>\n",
       "    <tr>\n",
       "      <th>Bariadi</th>\n",
       "      <td>0.492778</td>\n",
       "      <td>0.347494</td>\n",
       "      <td>0.159728</td>\n",
       "      <td>1177</td>\n",
       "    </tr>\n",
       "    <tr>\n",
       "      <th>Rungwe</th>\n",
       "      <td>0.611212</td>\n",
       "      <td>0.145570</td>\n",
       "      <td>0.243219</td>\n",
       "      <td>1106</td>\n",
       "    </tr>\n",
       "  </tbody>\n",
       "</table>\n",
       "</div>"
      ],
      "text/plain": [
       "              functional  functional needs repair  non functional  count\n",
       "lga                                                                     \n",
       "Njombe          0.801838                 0.037555        0.160607   2503\n",
       "Arusha Rural    0.698882                 0.038339        0.262780   1252\n",
       "Moshi Rural     0.585931                 0.095124        0.318945   1251\n",
       "Bariadi         0.492778                 0.347494        0.159728   1177\n",
       "Rungwe          0.611212                 0.145570        0.243219   1106"
      ]
     },
     "execution_count": 96,
     "metadata": {},
     "output_type": "execute_result"
    }
   ],
   "source": [
    "train_lga_target_prop = pd.concat([train_lga_target.groupby('lga').mean(),train_lga_target.groupby('lga').count()], axis = 1).iloc[:,:-2]\n",
    "train_lga_target_prop.columns = ['functional','functional needs repair','non functional','count']\n",
    "train_lga_target_prop.sort_values(by='count',ascending=False).head()"
   ]
  },
  {
   "cell_type": "code",
   "execution_count": 97,
   "metadata": {
    "collapsed": false
   },
   "outputs": [
    {
     "data": {
      "text/html": [
       "<div>\n",
       "<table border=\"1\" class=\"dataframe\">\n",
       "  <thead>\n",
       "    <tr style=\"text-align: right;\">\n",
       "      <th></th>\n",
       "      <th>functional</th>\n",
       "      <th>functional needs repair</th>\n",
       "      <th>non functional</th>\n",
       "      <th>count</th>\n",
       "    </tr>\n",
       "    <tr>\n",
       "      <th>ward</th>\n",
       "      <th></th>\n",
       "      <th></th>\n",
       "      <th></th>\n",
       "      <th></th>\n",
       "    </tr>\n",
       "  </thead>\n",
       "  <tbody>\n",
       "    <tr>\n",
       "      <th>Igosi</th>\n",
       "      <td>0.941368</td>\n",
       "      <td>0.000000</td>\n",
       "      <td>0.058632</td>\n",
       "      <td>307</td>\n",
       "    </tr>\n",
       "    <tr>\n",
       "      <th>Imalinyi</th>\n",
       "      <td>0.952381</td>\n",
       "      <td>0.011905</td>\n",
       "      <td>0.035714</td>\n",
       "      <td>252</td>\n",
       "    </tr>\n",
       "    <tr>\n",
       "      <th>Siha Kati</th>\n",
       "      <td>0.982759</td>\n",
       "      <td>0.008621</td>\n",
       "      <td>0.008621</td>\n",
       "      <td>232</td>\n",
       "    </tr>\n",
       "    <tr>\n",
       "      <th>Mdandu</th>\n",
       "      <td>0.874459</td>\n",
       "      <td>0.056277</td>\n",
       "      <td>0.069264</td>\n",
       "      <td>231</td>\n",
       "    </tr>\n",
       "    <tr>\n",
       "      <th>Nduruma</th>\n",
       "      <td>0.631336</td>\n",
       "      <td>0.073733</td>\n",
       "      <td>0.294931</td>\n",
       "      <td>217</td>\n",
       "    </tr>\n",
       "  </tbody>\n",
       "</table>\n",
       "</div>"
      ],
      "text/plain": [
       "           functional  functional needs repair  non functional  count\n",
       "ward                                                                 \n",
       "Igosi        0.941368                 0.000000        0.058632    307\n",
       "Imalinyi     0.952381                 0.011905        0.035714    252\n",
       "Siha Kati    0.982759                 0.008621        0.008621    232\n",
       "Mdandu       0.874459                 0.056277        0.069264    231\n",
       "Nduruma      0.631336                 0.073733        0.294931    217"
      ]
     },
     "execution_count": 97,
     "metadata": {},
     "output_type": "execute_result"
    }
   ],
   "source": [
    "train_ward_target_prop = pd.concat([train_ward_target.groupby('ward').mean(),train_ward_target.groupby('ward').count()], axis = 1).iloc[:,:-2]\n",
    "train_ward_target_prop.columns = ['functional','functional needs repair','non functional','count']\n",
    "train_ward_target_prop.sort_values(by='count',ascending=False).head()"
   ]
  },
  {
   "cell_type": "markdown",
   "metadata": {},
   "source": [
    "1. So the idea is that for a certain installer, the proportion for functional is greater than 0.54 (the proportion of functional in the total target variable) then the installer installs functional pump. If the proportion for non functional is greater than 0.38, then the installer installs non functional pump and if the proportion for functional needs repair category is greater than 0.07, then the installer installs functional pumps which need repair.   \n",
    "2. The ordering has been done in such a way that since the proportion category for functional needs repair is the least in target variable that is why our main target would be capture the pumps which need repair. So if for a certain installer, the proportion for functional, functional needs repair, non functional is 0.54XX, 0.38XX, 0.07XX, then the category for that intaller would be functional needs repair, since that category comes last in the below code\n",
    "3. The same thing will be done for those other variables also"
   ]
  },
  {
   "cell_type": "code",
   "execution_count": 98,
   "metadata": {
    "collapsed": false
   },
   "outputs": [],
   "source": [
    "train_installer_target_prop['category'] = np.zeros((train_installer_target_prop.shape[0],1))\n",
    "train_installer_target_prop['category'].loc[train_installer_target_prop['functional'] > 0.54] = 'functional'\n",
    "train_installer_target_prop['category'].loc[train_installer_target_prop['non functional'] > 0.38] = 'non functional'\n",
    "train_installer_target_prop['category'].loc[train_installer_target_prop['functional needs repair'] > 0.07] = 'functional needs repair'\n",
    "\n",
    "train_subvillages_target_prop['category'] = np.zeros((train_subvillages_target_prop.shape[0],1))\n",
    "train_subvillages_target_prop['category'].loc[train_subvillages_target_prop['functional'] > 0.54] = 'functional'\n",
    "train_subvillages_target_prop['category'].loc[train_subvillages_target_prop['non functional'] > 0.38] = 'non functional'\n",
    "train_subvillages_target_prop['category'].loc[train_subvillages_target_prop['functional needs repair'] > 0.07] = 'functional needs repair'\n",
    "\n",
    "train_lga_target_prop['category'] = np.zeros((train_lga_target_prop.shape[0],1))\n",
    "train_lga_target_prop['category'].loc[train_lga_target_prop['functional'] > 0.54] = 'functional'\n",
    "train_lga_target_prop['category'].loc[train_lga_target_prop['non functional'] > 0.38] = 'non functional'\n",
    "train_lga_target_prop['category'].loc[train_lga_target_prop['functional needs repair'] > 0.07] = 'functional needs repair'\n",
    "\n",
    "train_ward_target_prop['category'] = np.zeros((train_ward_target_prop.shape[0],1))\n",
    "train_ward_target_prop['category'].loc[train_ward_target_prop['functional'] > 0.54] = 'functional'\n",
    "train_ward_target_prop['category'].loc[train_ward_target_prop['non functional'] > 0.38] = 'non functional'\n",
    "train_ward_target_prop['category'].loc[train_ward_target_prop['functional needs repair'] > 0.07] = 'functional needs repair'"
   ]
  },
  {
   "cell_type": "markdown",
   "metadata": {},
   "source": [
    "Creating additional variables installer category  variable which will store whether that installer is contributing towards which status of pump"
   ]
  },
  {
   "cell_type": "code",
   "execution_count": 99,
   "metadata": {
    "collapsed": false
   },
   "outputs": [],
   "source": [
    "train['installer_category'] = train.installer.map(train_installer_target_prop.category)\n",
    "test['installer_category'] = test.installer.map(train_installer_target_prop.category)\n",
    "test['installer_category'] = test['installer_category'].fillna(test['installer_category'].value_counts().index[0])\n",
    "\n",
    "train['subvillage_category'] = train.installer.map(train_subvillages_target_prop.category)\n",
    "test['subvillage_category'] = test.installer.map(train_subvillages_target_prop.category)\n",
    "test['subvillage_category'] = test['subvillage_category'].fillna(test['subvillage_category'].value_counts().index[0])\n",
    "\n",
    "train['lga_category'] = train.lga.map(train_lga_target_prop.category)\n",
    "test['lga_category'] = test.lga.map(train_lga_target_prop.category)\n",
    "test['lga_category'] = test['lga_category'].fillna(test['lga_category'].value_counts().index[0])\n",
    "\n",
    "train['ward_category'] = train.ward.map(train_ward_target_prop.category)\n",
    "test['ward_category'] = test.ward.map(train_ward_target_prop.category)\n",
    "test['ward_category'] = test['ward_category'].fillna(test['ward_category'].value_counts().index[0])"
   ]
  },
  {
   "cell_type": "markdown",
   "metadata": {},
   "source": [
    "Dropping the installer since we have done feature engineering on it. Same thing will be done for those other variables"
   ]
  },
  {
   "cell_type": "code",
   "execution_count": 100,
   "metadata": {
    "collapsed": true
   },
   "outputs": [],
   "source": [
    "df = train.append(test, ignore_index = True)\n",
    "df = df.drop(['installer','subvillage','lga','ward'], axis = 1)"
   ]
  },
  {
   "cell_type": "code",
   "execution_count": 101,
   "metadata": {
    "collapsed": false
   },
   "outputs": [
    {
     "data": {
      "text/html": [
       "<div>\n",
       "<table border=\"1\" class=\"dataframe\">\n",
       "  <thead>\n",
       "    <tr style=\"text-align: right;\">\n",
       "      <th></th>\n",
       "      <th>basin</th>\n",
       "      <th>region_code</th>\n",
       "      <th>district_code</th>\n",
       "      <th>recorded_by</th>\n",
       "      <th>scheme_management</th>\n",
       "      <th>extraction_type</th>\n",
       "      <th>management</th>\n",
       "      <th>management_group</th>\n",
       "      <th>payment</th>\n",
       "      <th>quantity</th>\n",
       "      <th>source</th>\n",
       "      <th>waterpoint_type</th>\n",
       "      <th>installer_category</th>\n",
       "      <th>subvillage_category</th>\n",
       "      <th>lga_category</th>\n",
       "      <th>ward_category</th>\n",
       "    </tr>\n",
       "  </thead>\n",
       "  <tbody>\n",
       "    <tr>\n",
       "      <th>count</th>\n",
       "      <td>74250</td>\n",
       "      <td>74250</td>\n",
       "      <td>74250</td>\n",
       "      <td>74250</td>\n",
       "      <td>74250</td>\n",
       "      <td>74250</td>\n",
       "      <td>74250</td>\n",
       "      <td>74250</td>\n",
       "      <td>74250</td>\n",
       "      <td>74250</td>\n",
       "      <td>74250</td>\n",
       "      <td>74250</td>\n",
       "      <td>74250</td>\n",
       "      <td>17958</td>\n",
       "      <td>74250</td>\n",
       "      <td>74250</td>\n",
       "    </tr>\n",
       "    <tr>\n",
       "      <th>unique</th>\n",
       "      <td>9</td>\n",
       "      <td>27</td>\n",
       "      <td>20</td>\n",
       "      <td>1</td>\n",
       "      <td>12</td>\n",
       "      <td>18</td>\n",
       "      <td>12</td>\n",
       "      <td>5</td>\n",
       "      <td>7</td>\n",
       "      <td>5</td>\n",
       "      <td>10</td>\n",
       "      <td>7</td>\n",
       "      <td>3</td>\n",
       "      <td>3</td>\n",
       "      <td>3</td>\n",
       "      <td>3</td>\n",
       "    </tr>\n",
       "    <tr>\n",
       "      <th>top</th>\n",
       "      <td>Lake Victoria</td>\n",
       "      <td>11</td>\n",
       "      <td>1</td>\n",
       "      <td>GeoData Consultants Ltd</td>\n",
       "      <td>VWC</td>\n",
       "      <td>gravity</td>\n",
       "      <td>vwc</td>\n",
       "      <td>user-group</td>\n",
       "      <td>never pay</td>\n",
       "      <td>enough</td>\n",
       "      <td>spring</td>\n",
       "      <td>communal standpipe</td>\n",
       "      <td>functional needs repair</td>\n",
       "      <td>functional</td>\n",
       "      <td>functional needs repair</td>\n",
       "      <td>functional</td>\n",
       "    </tr>\n",
       "    <tr>\n",
       "      <th>freq</th>\n",
       "      <td>12871</td>\n",
       "      <td>6608</td>\n",
       "      <td>15299</td>\n",
       "      <td>74250</td>\n",
       "      <td>50763</td>\n",
       "      <td>33263</td>\n",
       "      <td>50624</td>\n",
       "      <td>65538</td>\n",
       "      <td>31712</td>\n",
       "      <td>41522</td>\n",
       "      <td>21216</td>\n",
       "      <td>35628</td>\n",
       "      <td>41448</td>\n",
       "      <td>16528</td>\n",
       "      <td>29215</td>\n",
       "      <td>26236</td>\n",
       "    </tr>\n",
       "  </tbody>\n",
       "</table>\n",
       "</div>"
      ],
      "text/plain": [
       "                basin  region_code  district_code              recorded_by  \\\n",
       "count           74250        74250          74250                    74250   \n",
       "unique              9           27             20                        1   \n",
       "top     Lake Victoria           11              1  GeoData Consultants Ltd   \n",
       "freq            12871         6608          15299                    74250   \n",
       "\n",
       "       scheme_management extraction_type management management_group  \\\n",
       "count              74250           74250      74250            74250   \n",
       "unique                12              18         12                5   \n",
       "top                  VWC         gravity        vwc       user-group   \n",
       "freq               50763           33263      50624            65538   \n",
       "\n",
       "          payment quantity  source     waterpoint_type  \\\n",
       "count       74250    74250   74250               74250   \n",
       "unique          7        5      10                   7   \n",
       "top     never pay   enough  spring  communal standpipe   \n",
       "freq        31712    41522   21216               35628   \n",
       "\n",
       "             installer_category subvillage_category             lga_category  \\\n",
       "count                     74250               17958                    74250   \n",
       "unique                        3                   3                        3   \n",
       "top     functional needs repair          functional  functional needs repair   \n",
       "freq                      41448               16528                    29215   \n",
       "\n",
       "       ward_category  \n",
       "count          74250  \n",
       "unique             3  \n",
       "top       functional  \n",
       "freq           26236  "
      ]
     },
     "execution_count": 101,
     "metadata": {},
     "output_type": "execute_result"
    }
   ],
   "source": [
    "pd.set_option('display.max_columns', df.shape[1])\n",
    "df.describe(include = ['O'])"
   ]
  },
  {
   "cell_type": "markdown",
   "metadata": {},
   "source": [
    "recorded_by variable only has one value. So we are going to drop this variable"
   ]
  },
  {
   "cell_type": "code",
   "execution_count": 102,
   "metadata": {
    "collapsed": false,
    "scrolled": true
   },
   "outputs": [],
   "source": [
    "df = df.drop(['recorded_by'], axis =1)"
   ]
  },
  {
   "cell_type": "code",
   "execution_count": 103,
   "metadata": {
    "collapsed": true
   },
   "outputs": [],
   "source": [
    "df['operation_year'] = df['entered_year'] - df['construction_year']"
   ]
  },
  {
   "cell_type": "code",
   "execution_count": 104,
   "metadata": {
    "collapsed": true
   },
   "outputs": [],
   "source": [
    "df = df.drop(['entered_year','construction_year'], axis = 1)"
   ]
  },
  {
   "cell_type": "code",
   "execution_count": 105,
   "metadata": {
    "collapsed": false
   },
   "outputs": [],
   "source": [
    "df_dummies = pd.get_dummies(df)"
   ]
  },
  {
   "cell_type": "code",
   "execution_count": 106,
   "metadata": {
    "collapsed": false,
    "scrolled": true
   },
   "outputs": [
    {
     "data": {
      "text/plain": [
       "(74250, 149)"
      ]
     },
     "execution_count": 106,
     "metadata": {},
     "output_type": "execute_result"
    }
   ],
   "source": [
    "df_dummies.shape"
   ]
  },
  {
   "cell_type": "code",
   "execution_count": 107,
   "metadata": {
    "collapsed": true
   },
   "outputs": [],
   "source": [
    "train = df_dummies.iloc[:59400,:]\n",
    "test = df_dummies.iloc[59400:,:]"
   ]
  },
  {
   "cell_type": "code",
   "execution_count": 53,
   "metadata": {
    "collapsed": false
   },
   "outputs": [],
   "source": [
    "from sklearn.linear_model import LogisticRegression\n",
    "from sklearn.ensemble import RandomForestClassifier\n",
    "from sklearn.neighbors import KNeighborsClassifier\n",
    "from sklearn.naive_bayes import GaussianNB\n",
    "from sklearn.model_selection import cross_val_score\n",
    "from sklearn.metrics import accuracy_score"
   ]
  },
  {
   "cell_type": "code",
   "execution_count": 54,
   "metadata": {
    "collapsed": true
   },
   "outputs": [],
   "source": [
    "classifiers = [LogisticRegression(solver='lbfgs', multi_class='multinomial', C = 3000, tol = 0.0001),\n",
    "               KNeighborsClassifier(n_neighbors = 15),\n",
    "               GaussianNB(),\n",
    "               RandomForestClassifier(n_estimators=500, random_state = 8)]"
   ]
  },
  {
   "cell_type": "code",
   "execution_count": 55,
   "metadata": {
    "collapsed": false
   },
   "outputs": [
    {
     "name": "stdout",
     "output_type": "stream",
     "text": [
      "==============================\n",
      "LogisticRegression\n",
      "****Results****\n",
      "Score: 0.7287375146245771\n",
      "==============================\n",
      "KNeighborsClassifier\n",
      "****Results****\n",
      "Score: 0.6928617405028368\n",
      "==============================\n",
      "GaussianNB\n",
      "****Results****\n",
      "Score: 0.5654211693541658\n",
      "==============================\n",
      "RandomForestClassifier\n",
      "****Results****\n",
      "Score: 0.7965487687907384\n",
      "==============================\n"
     ]
    }
   ],
   "source": [
    "for clf in classifiers:\n",
    "    name = clf.__class__.__name__\n",
    "    Score = cross_val_score(clf, train, np.ravel(train_target), scoring = 'accuracy',cv=5).mean()\n",
    "    \n",
    "    print(\"=\"*30)\n",
    "    print(name)\n",
    "    \n",
    "    print('****Results****')\n",
    "    print(\"Score: {}\".format(Score))\n",
    "    \n",
    "print(\"=\"*30)"
   ]
  },
  {
   "cell_type": "code",
   "execution_count": 127,
   "metadata": {
    "collapsed": true
   },
   "outputs": [],
   "source": [
    "cat_train = df.iloc[:59400,:]"
   ]
  },
  {
   "cell_type": "code",
   "execution_count": 141,
   "metadata": {
    "collapsed": false
   },
   "outputs": [
    {
     "data": {
      "image/png": "[encoded data removed]",
      "text/plain": [
       "<matplotlib.figure.Figure at 0xbe8402b8d0>"
      ]
     },
     "metadata": {},
     "output_type": "display_data"
    }
   ],
   "source": [
    "plt.figure(figsize=(20,6))\n",
    "sns.countplot(train_target['status_group'])\n",
    "plt.legend(loc='upper right')\n",
    "plt.ylabel('Number of Occurrences', fontsize=12)\n",
    "plt.xlabel('status_group', fontsize=12)\n",
    "plt.show()"
   ]
  },
  {
   "cell_type": "code",
   "execution_count": 142,
   "metadata": {
    "collapsed": false,
    "scrolled": true
   },
   "outputs": [
    {
     "data": {
      "image/png": "[encoded data removed]",
      "text/plain": [
       "<matplotlib.figure.Figure at 0xbe820735c0>"
      ]
     },
     "metadata": {},
     "output_type": "display_data"
    }
   ],
   "source": [
    "plt.figure(figsize=(20,6))\n",
    "sns.countplot(cat_train['basin'], hue = train_target['status_group'])\n",
    "plt.legend(loc='upper right')\n",
    "plt.ylabel('Number of Occurrences', fontsize=12)\n",
    "plt.xlabel('basin', fontsize=12)\n",
    "plt.show()"
   ]
  },
  {
   "cell_type": "code",
   "execution_count": 64,
   "metadata": {
    "collapsed": false
   },
   "outputs": [
    {
     "data": {
      "text/plain": [
       "RandomForestClassifier(bootstrap=True, class_weight=None, criterion='gini',\n",
       "            max_depth=None, max_features='auto', max_leaf_nodes=None,\n",
       "            min_impurity_split=1e-07, min_samples_leaf=1,\n",
       "            min_samples_split=2, min_weight_fraction_leaf=0.0,\n",
       "            n_estimators=1000, n_jobs=1, oob_score=False, random_state=8,\n",
       "            verbose=0, warm_start=False)"
      ]
     },
     "execution_count": 64,
     "metadata": {},
     "output_type": "execute_result"
    }
   ],
   "source": [
    "model = RandomForestClassifier(n_estimators=1000,random_state = 8)\n",
    "model.fit(train,np.ravel(train_target))"
   ]
  },
  {
   "cell_type": "code",
   "execution_count": 65,
   "metadata": {
    "collapsed": true
   },
   "outputs": [],
   "source": [
    "test_predictions = model.predict(test)"
   ]
  },
  {
   "cell_type": "code",
   "execution_count": 66,
   "metadata": {
    "collapsed": true
   },
   "outputs": [],
   "source": [
    "submission = pd.DataFrame(test_predictions, columns=['status_group'])\n",
    "submission.insert(0, 'id', test_ids)\n",
    "submission.reset_index()\n",
    "submission.to_csv('submission.csv', index = False)"
   ]
  },
  {
   "cell_type": "code",
   "execution_count": 67,
   "metadata": {
    "collapsed": false,
    "scrolled": true
   },
   "outputs": [
    {
     "data": {
      "text/html": [
       "<div>\n",
       "<table border=\"1\" class=\"dataframe\">\n",
       "  <thead>\n",
       "    <tr style=\"text-align: right;\">\n",
       "      <th></th>\n",
       "      <th>id</th>\n",
       "      <th>status_group</th>\n",
       "    </tr>\n",
       "  </thead>\n",
       "  <tbody>\n",
       "    <tr>\n",
       "      <th>0</th>\n",
       "      <td>50785</td>\n",
       "      <td>non functional</td>\n",
       "    </tr>\n",
       "    <tr>\n",
       "      <th>1</th>\n",
       "      <td>51630</td>\n",
       "      <td>functional</td>\n",
       "    </tr>\n",
       "    <tr>\n",
       "      <th>2</th>\n",
       "      <td>17168</td>\n",
       "      <td>functional</td>\n",
       "    </tr>\n",
       "    <tr>\n",
       "      <th>3</th>\n",
       "      <td>45559</td>\n",
       "      <td>non functional</td>\n",
       "    </tr>\n",
       "    <tr>\n",
       "      <th>4</th>\n",
       "      <td>49871</td>\n",
       "      <td>functional</td>\n",
       "    </tr>\n",
       "  </tbody>\n",
       "</table>\n",
       "</div>"
      ],
      "text/plain": [
       "      id    status_group\n",
       "0  50785  non functional\n",
       "1  51630      functional\n",
       "2  17168      functional\n",
       "3  45559  non functional\n",
       "4  49871      functional"
      ]
     },
     "execution_count": 67,
     "metadata": {},
     "output_type": "execute_result"
    }
   ],
   "source": [
    "submission.head()"
   ]
  },
  {
   "cell_type": "code",
   "execution_count": 68,
   "metadata": {
    "collapsed": false
   },
   "outputs": [
    {
     "data": {
      "text/plain": [
       "functional                 8759\n",
       "non functional             5452\n",
       "functional needs repair     639\n",
       "Name: status_group, dtype: int64"
      ]
     },
     "execution_count": 68,
     "metadata": {},
     "output_type": "execute_result"
    }
   ],
   "source": [
    "submission['status_group'].value_counts()"
   ]
  },
  {
   "cell_type": "code",
   "execution_count": 63,
   "metadata": {
    "collapsed": false
   },
   "outputs": [
    {
     "data": {
      "text/plain": [
       "'2017-03-04 13:02:30'"
      ]
     },
     "execution_count": 63,
     "metadata": {},
     "output_type": "execute_result"
    }
   ],
   "source": [
    "strftime(\"%Y-%m-%d %H:%M:%S\", localtime())"
   ]
  }
 ],
 "metadata": {
  "kernelspec": {
   "display_name": "Python 3",
   "language": "python",
   "name": "python3"
  },
  "language_info": {
   "codemirror_mode": {
    "name": "ipython",
    "version": 3
   },
   "file_extension": ".py",
   "mimetype": "text/x-python",
   "name": "python",
   "nbconvert_exporter": "python",
   "pygments_lexer": "ipython3",
   "version": "3.6.0"
  }
 },
 "nbformat": 4,
 "nbformat_minor": 2
}
